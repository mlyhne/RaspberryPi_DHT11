{
 "cells": [
  {
   "cell_type": "markdown",
   "metadata": {},
   "source": [
    "# RaspberryPi med DHT11 termometer og hydrometer"
   ]
  },
  {
   "cell_type": "code",
   "execution_count": 3,
   "metadata": {},
   "outputs": [
    {
     "name": "stdout",
     "output_type": "stream",
     "text": [
      "Collecting Adafruit_DHT\n",
      "  Downloading https://files.pythonhosted.org/packages/ff/24/b999708edffbc3d30763acdf07dc7a1666a1542795f3d2b80d6ef2590c0c/Adafruit_DHT-1.4.0.tar.gz\n",
      "Building wheels for collected packages: Adafruit-DHT\n",
      "  Building wheel for Adafruit-DHT (setup.py) ... \u001b[?25lerror\n",
      "  Complete output from command /home/mlyhne/CodingPirates/python3/bin/python3 -u -c \"import setuptools, tokenize;__file__='/tmp/pip-install-az4ytycz/Adafruit-DHT/setup.py';f=getattr(tokenize, 'open', open)(__file__);code=f.read().replace('\\r\\n', '\\n');f.close();exec(compile(code, __file__, 'exec'))\" bdist_wheel -d /tmp/pip-wheel-emauk_so --python-tag cp36:\n",
      "  Could not detect if running on the Raspberry Pi or Beaglebone Black.  If this failure is unexpected, you can run again with --force-pi or --force-bbb parameter to force using the Raspberry Pi or Beaglebone Black respectively.\n",
      "  \n",
      "  ----------------------------------------\n",
      "\u001b[31m  Failed building wheel for Adafruit-DHT\u001b[0m\n",
      "\u001b[?25h  Running setup.py clean for Adafruit-DHT\n",
      "Failed to build Adafruit-DHT\n",
      "Installing collected packages: Adafruit-DHT\n",
      "  Running setup.py install for Adafruit-DHT ... \u001b[?25lerror\n",
      "    Complete output from command /home/mlyhne/CodingPirates/python3/bin/python3 -u -c \"import setuptools, tokenize;__file__='/tmp/pip-install-az4ytycz/Adafruit-DHT/setup.py';f=getattr(tokenize, 'open', open)(__file__);code=f.read().replace('\\r\\n', '\\n');f.close();exec(compile(code, __file__, 'exec'))\" install --record /tmp/pip-record-uxize7h0/install-record.txt --single-version-externally-managed --compile --install-headers /home/mlyhne/CodingPirates/python3/include/site/python3.6/Adafruit-DHT:\n",
      "    Could not detect if running on the Raspberry Pi or Beaglebone Black.  If this failure is unexpected, you can run again with --force-pi or --force-bbb parameter to force using the Raspberry Pi or Beaglebone Black respectively.\n",
      "    \n",
      "    ----------------------------------------\n",
      "\u001b[31mCommand \"/home/mlyhne/CodingPirates/python3/bin/python3 -u -c \"import setuptools, tokenize;__file__='/tmp/pip-install-az4ytycz/Adafruit-DHT/setup.py';f=getattr(tokenize, 'open', open)(__file__);code=f.read().replace('\\r\\n', '\\n');f.close();exec(compile(code, __file__, 'exec'))\" install --record /tmp/pip-record-uxize7h0/install-record.txt --single-version-externally-managed --compile --install-headers /home/mlyhne/CodingPirates/python3/include/site/python3.6/Adafruit-DHT\" failed with error code 1 in /tmp/pip-install-az4ytycz/Adafruit-DHT/\u001b[0m\n",
      "\u001b[33mYou are using pip version 19.0.2, however version 19.0.3 is available.\n",
      "You should consider upgrading via the 'pip install --upgrade pip' command.\u001b[0m\n",
      "\u001b[?25h"
     ]
    }
   ],
   "source": [
    "!pip install Adafruit_DHT"
   ]
  },
  {
   "cell_type": "markdown",
   "metadata": {},
   "source": [
    "![test](RaspberryPi_DHT11.png)"
   ]
  },
  {
   "cell_type": "code",
   "execution_count": 4,
   "metadata": {},
   "outputs": [
    {
     "ename": "ModuleNotFoundError",
     "evalue": "No module named 'Adafruit_DHT'",
     "output_type": "error",
     "traceback": [
      "\u001b[0;31m---------------------------------------------------------------------------\u001b[0m",
      "\u001b[0;31mModuleNotFoundError\u001b[0m                       Traceback (most recent call last)",
      "\u001b[0;32m<ipython-input-4-b26308e6d9e1>\u001b[0m in \u001b[0;36m<module>\u001b[0;34m\u001b[0m\n\u001b[1;32m      1\u001b[0m \u001b[0;31m#!/usr/bin/python\u001b[0m\u001b[0;34m\u001b[0m\u001b[0;34m\u001b[0m\u001b[0;34m\u001b[0m\u001b[0m\n\u001b[1;32m      2\u001b[0m \u001b[0;32mimport\u001b[0m \u001b[0msys\u001b[0m\u001b[0;34m\u001b[0m\u001b[0;34m\u001b[0m\u001b[0m\n\u001b[0;32m----> 3\u001b[0;31m \u001b[0;32mimport\u001b[0m \u001b[0mAdafruit_DHT\u001b[0m\u001b[0;34m\u001b[0m\u001b[0;34m\u001b[0m\u001b[0m\n\u001b[0m\u001b[1;32m      4\u001b[0m \u001b[0;34m\u001b[0m\u001b[0m\n\u001b[1;32m      5\u001b[0m \u001b[0;32mwhile\u001b[0m \u001b[0;32mTrue\u001b[0m\u001b[0;34m:\u001b[0m\u001b[0;34m\u001b[0m\u001b[0;34m\u001b[0m\u001b[0m\n",
      "\u001b[0;31mModuleNotFoundError\u001b[0m: No module named 'Adafruit_DHT'"
     ]
    }
   ],
   "source": [
    "#!/usr/bin/python\n",
    "#import sys\n",
    "import Adafruit_DHT as DHT\n",
    "\n",
    "pin = 4   # GIPO4\n",
    "\n",
    "while True:\n",
    "    \n",
    "    humidity, temperature = DHT.read_retry(DHT.DHT11, pin)\n",
    "\n",
    "    print ('Temperatur: {0:0.1f} C  Luftfugtighed: {1:0.1f} %'.format(temperature, humidity))\n",
    "    "
   ]
  }
 ],
 "metadata": {
  "kernelspec": {
   "display_name": "Python 3",
   "language": "python",
   "name": "python3"
  },
  "language_info": {
   "codemirror_mode": {
    "name": "ipython",
    "version": 3
   },
   "file_extension": ".py",
   "mimetype": "text/x-python",
   "name": "python",
   "nbconvert_exporter": "python",
   "pygments_lexer": "ipython3",
   "version": "3.6.7"
  }
 },
 "nbformat": 4,
 "nbformat_minor": 2
}
