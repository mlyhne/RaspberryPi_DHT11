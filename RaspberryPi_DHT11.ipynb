{
 "cells": [
  {
   "cell_type": "markdown",
   "metadata": {},
   "source": [
    "# RaspberryPi med DHT11 termometer og hydrometer"
   ]
  },
  {
   "cell_type": "markdown",
   "metadata": {},
   "source": [
    "Først skal Adafruit_DHT pakken installeres.<br>\n",
    "Skriv følgende i shell:<br>\n",
    "`\n",
    "!pip3 install Adafruit_DHT\n",
    "`"
   ]
  },
  {
   "cell_type": "markdown",
   "metadata": {},
   "source": [
    "Sluk for RaspberryPi og tilslut som vist nednefor.<br>\n",
    "Modstanden er en 10K Ohm, som benyttes til pullup på GIPO4 pin. (blå ledning)."
   ]
  },
  {
   "cell_type": "markdown",
   "metadata": {},
   "source": [
    "![test](RaspberryPi_DHT11.png)"
   ]
  },
  {
   "cell_type": "code",
   "execution_count": null,
   "metadata": {},
   "outputs": [],
   "source": [
    "#!/usr/bin/python\n",
    "\n",
    "# demonstration, aflæs sensor og print resultatet\n",
    "import Adafruit_DHT as DHT\n",
    "import time\n",
    "\n",
    "pin = 4   # GIPO4\n",
    "\n",
    "for i in range(3):\n",
    "    \n",
    "    humidity, temperature = DHT.read_retry(DHT.DHT11, pin)\n",
    "    sampleTime = time.ctime()\n",
    "\n",
    "    print ('{0} Temperatur: {1:0.1f} C  Luftfugtighed: {2:0.1f} %'.format(sampleTime, \n",
    "                                                                          temperature,\n",
    "                                                                          humidity))\n",
    "    time.sleep(10)"
   ]
  },
  {
   "cell_type": "code",
   "execution_count": null,
   "metadata": {},
   "outputs": [],
   "source": [
    "#!/usr/bin/python\n",
    "\n",
    "# eksempel på fugtigheds alarm.\n",
    "import Adafruit_DHT as DHT\n",
    "import time\n",
    "\n",
    "pin = 4   # GIPO4\n",
    "\n",
    "while True:\n",
    "    \n",
    "    humidity, temperature = DHT.read_retry(DHT.DHT11, pin)\n",
    "    if humidity > 70:\n",
    "        print('Advarsel, luftfugtigheden er {} %'.format(humidity))\n",
    "        break\n",
    "    else:    \n",
    "        time.sleep(5)"
   ]
  },
  {
   "cell_type": "code",
   "execution_count": null,
   "metadata": {},
   "outputs": [],
   "source": []
  }
 ],
 "metadata": {
  "kernelspec": {
   "display_name": "Python 3",
   "language": "python",
   "name": "python3"
  },
  "language_info": {
   "codemirror_mode": {
    "name": "ipython",
    "version": 3
   },
   "file_extension": ".py",
   "mimetype": "text/x-python",
   "name": "python",
   "nbconvert_exporter": "python",
   "pygments_lexer": "ipython3",
   "version": "3.5.3"
  }
 },
 "nbformat": 4,
 "nbformat_minor": 2
}
